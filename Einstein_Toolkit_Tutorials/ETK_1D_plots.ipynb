{
 "cells": [
  {
   "cell_type": "markdown",
   "metadata": {},
   "source": [
    "# Riemann Problem"
   ]
  },
  {
   "cell_type": "code",
   "execution_count": 1,
   "metadata": {},
   "outputs": [],
   "source": [
    "import matplotlib.pyplot as plt\n",
    "import numpy as np\n",
    "from kuibit.simdir import SimDir\n",
    "from kuibit.grid_data import UniformGrid"
   ]
  },
  {
   "cell_type": "markdown",
   "metadata": {},
   "source": [
    "## Exact Solution"
   ]
  },
  {
   "cell_type": "code",
   "execution_count": 2,
   "metadata": {},
   "outputs": [],
   "source": [
    "#initial data from the Exact Riemann solver of https://www.brunogiacomazzo.org/?page_id=395\n",
    "exact = np.loadtxt(\"Sod_exact.dat\")"
   ]
  },
  {
   "cell_type": "code",
   "execution_count": 3,
   "metadata": {},
   "outputs": [],
   "source": [
    "x_exact=exact[:,0]\n",
    "rho_exact=exact[:,1]\n",
    "press_exact=exact[:,2] #note: this is pgas+pmag\n",
    "vx_exact=exact[:,3]\n",
    "vy_exact=exact[:,4]\n",
    "vz_exact=exact[:,5]\n",
    "By_exact=exact[:,6]\n",
    "Bz_exact=exact[:,7]"
   ]
  },
  {
   "cell_type": "code",
   "execution_count": 4,
   "metadata": {},
   "outputs": [
    {
     "data": {
      "image/png": "[encoded data removed]",
      "text/plain": [
       "<Figure size 640x480 with 1 Axes>"
      ]
     },
     "metadata": {},
     "output_type": "display_data"
    }
   ],
   "source": [
    "plt.plot(x_exact, rho_exact, label=\"exact\")\n",
    "plt.xlim(-0.5, 0.5)\n",
    "plt.legend()\n",
    "plt.show()"
   ]
  },
  {
   "cell_type": "markdown",
   "metadata": {},
   "source": [
    "## Read the Numerical Results"
   ]
  },
  {
   "cell_type": "code",
   "execution_count": 5,
   "metadata": {},
   "outputs": [
    {
     "name": "stdout",
     "output_type": "stream",
     "text": [
      "\n",
      "Available grid data of dimension 1D (x): \n",
      "['tau', 'vel[2]', 'vel[0]', 'eps', 'w_lorentz', 'press', 'scon[2]', 'scon[1]', 'rho', 'scon[0]', 'dens', 'vel[1]']\n",
      "\n",
      "\n",
      "Available grid data of dimension 1D (y): \n",
      "['vel[2]', 'w_lorentz', 'scon[2]', 'rho', 'dens', 'scon[1]', 'vel[1]', 'tau', 'eps', 'vel[0]', 'scon[0]', 'press']\n",
      "\n",
      "\n",
      "Available grid data of dimension 1D (z): \n",
      "['vel[0]', 'vel[1]', 'tau', 'vel[2]', 'press', 'rho', 'scon[1]', 'scon[2]', 'scon[0]', 'eps', 'w_lorentz', 'dens']\n",
      "\n",
      "\n",
      "Available grid data of dimension 2D (xy): \n",
      "[]\n",
      "\n",
      "\n",
      "Available grid data of dimension 2D (xz): \n",
      "[]\n",
      "\n",
      "\n",
      "Available grid data of dimension 2D (yz): \n",
      "[]\n",
      "\n",
      "\n",
      "Available grid data of dimension 3D (xyz): \n",
      "[]\n",
      "\n"
     ]
    }
   ],
   "source": [
    "gf= SimDir(\"./Sod_1d_400/\").gf\n",
    "print(gf)"
   ]
  },
  {
   "cell_type": "code",
   "execution_count": 6,
   "metadata": {},
   "outputs": [
    {
     "name": "stdout",
     "output_type": "stream",
     "text": [
      "\n",
      "Available grid data of dimension 1D (x): \n",
      "['tau', 'vel[2]', 'vel[0]', 'eps', 'w_lorentz', 'press', 'scon[2]', 'scon[1]', 'rho', 'scon[0]', 'dens', 'vel[1]']\n",
      "\n"
     ]
    }
   ],
   "source": [
    "vars1d=gf.x\n",
    "print(vars1d)"
   ]
  },
  {
   "cell_type": "code",
   "execution_count": 7,
   "metadata": {},
   "outputs": [],
   "source": [
    "rho=vars1d.fields.rho"
   ]
  },
  {
   "cell_type": "markdown",
   "metadata": {},
   "source": [
    "## Kuibit Standard Methods for Plots\n",
    "\n",
    "We create a uniform grid and plot the data on it. Kuibit indeed assumes that data were produced on a grid with several meshes (AMR). In our case the grid was already uniform, so later we will see an alternative way to plot the data without interpolating them on a new grid."
   ]
  },
  {
   "cell_type": "code",
   "execution_count": 8,
   "metadata": {},
   "outputs": [],
   "source": [
    "small_grid = UniformGrid([101], x0=[-0.45], x1=[0.45])"
   ]
  },
  {
   "cell_type": "code",
   "execution_count": 9,
   "metadata": {},
   "outputs": [
    {
     "name": "stdout",
     "output_type": "stream",
     "text": [
      "[0, 10, 20, 30, 40, 50, 60, 70, 80, 90, 100, 110, 120, 130, 140, 150, 160, 170, 180, 190, 200]\n"
     ]
    }
   ],
   "source": [
    "print(rho.iterations)"
   ]
  },
  {
   "cell_type": "code",
   "execution_count": 10,
   "metadata": {},
   "outputs": [],
   "source": [
    "rho_final = rho.read_on_grid(200, small_grid)"
   ]
  },
  {
   "cell_type": "code",
   "execution_count": 11,
   "metadata": {},
   "outputs": [
    {
     "name": "stdout",
     "output_type": "stream",
     "text": [
      "[-4.50000000e-01 -4.41000000e-01 -4.32000000e-01 -4.23000000e-01\n",
      " -4.14000000e-01 -4.05000000e-01 -3.96000000e-01 -3.87000000e-01\n",
      " -3.78000000e-01 -3.69000000e-01 -3.60000000e-01 -3.51000000e-01\n",
      " -3.42000000e-01 -3.33000000e-01 -3.24000000e-01 -3.15000000e-01\n",
      " -3.06000000e-01 -2.97000000e-01 -2.88000000e-01 -2.79000000e-01\n",
      " -2.70000000e-01 -2.61000000e-01 -2.52000000e-01 -2.43000000e-01\n",
      " -2.34000000e-01 -2.25000000e-01 -2.16000000e-01 -2.07000000e-01\n",
      " -1.98000000e-01 -1.89000000e-01 -1.80000000e-01 -1.71000000e-01\n",
      " -1.62000000e-01 -1.53000000e-01 -1.44000000e-01 -1.35000000e-01\n",
      " -1.26000000e-01 -1.17000000e-01 -1.08000000e-01 -9.90000000e-02\n",
      " -9.00000000e-02 -8.10000000e-02 -7.20000000e-02 -6.30000000e-02\n",
      " -5.40000000e-02 -4.50000000e-02 -3.60000000e-02 -2.70000000e-02\n",
      " -1.80000000e-02 -9.00000000e-03  5.55111512e-17  9.00000000e-03\n",
      "  1.80000000e-02  2.70000000e-02  3.60000000e-02  4.50000000e-02\n",
      "  5.40000000e-02  6.30000000e-02  7.20000000e-02  8.10000000e-02\n",
      "  9.00000000e-02  9.90000000e-02  1.08000000e-01  1.17000000e-01\n",
      "  1.26000000e-01  1.35000000e-01  1.44000000e-01  1.53000000e-01\n",
      "  1.62000000e-01  1.71000000e-01  1.80000000e-01  1.89000000e-01\n",
      "  1.98000000e-01  2.07000000e-01  2.16000000e-01  2.25000000e-01\n",
      "  2.34000000e-01  2.43000000e-01  2.52000000e-01  2.61000000e-01\n",
      "  2.70000000e-01  2.79000000e-01  2.88000000e-01  2.97000000e-01\n",
      "  3.06000000e-01  3.15000000e-01  3.24000000e-01  3.33000000e-01\n",
      "  3.42000000e-01  3.51000000e-01  3.60000000e-01  3.69000000e-01\n",
      "  3.78000000e-01  3.87000000e-01  3.96000000e-01  4.05000000e-01\n",
      "  4.14000000e-01  4.23000000e-01  4.32000000e-01  4.41000000e-01\n",
      "  4.50000000e-01]\n"
     ]
    }
   ],
   "source": [
    "print(*rho_final.coordinates_meshgrid())"
   ]
  },
  {
   "cell_type": "code",
   "execution_count": 12,
   "metadata": {},
   "outputs": [
    {
     "data": {
      "image/png": "[encoded data removed]",
      "text/plain": [
       "<Figure size 432x288 with 1 Axes>"
      ]
     },
     "metadata": {
      "needs_background": "light"
     },
     "output_type": "display_data"
    }
   ],
   "source": [
    "plt.plot(*rho_final.coordinates_meshgrid(), rho_final.data_xyz, label=\"GRHydro\")\n",
    "plt.plot(x_exact, rho_exact, label=\"exact\")\n",
    "plt.xlim(-0.5, 0.5)\n",
    "#plt.ylim(0.1, 0.3)\n",
    "plt.legend()\n",
    "plt.show()"
   ]
  },
  {
   "cell_type": "markdown",
   "metadata": {},
   "source": [
    "## Alternative Method\n",
    "This method can only be used with simulations that used only one refinement level (i.e., a uniform grid) and using only 1 MPI process."
   ]
  },
  {
   "cell_type": "code",
   "execution_count": 13,
   "metadata": {},
   "outputs": [
    {
     "data": {
      "text/plain": [
       "array([1.   , 1.   , 1.   , 1.   , 1.   , 1.   , 1.   , 1.   , 1.   ,\n",
       "       1.   , 1.   , 1.   , 1.   , 1.   , 1.   , 1.   , 1.   , 1.   ,\n",
       "       1.   , 1.   , 1.   , 1.   , 1.   , 1.   , 1.   , 1.   , 1.   ,\n",
       "       1.   , 1.   , 1.   , 1.   , 1.   , 1.   , 1.   , 1.   , 1.   ,\n",
       "       1.   , 1.   , 1.   , 1.   , 1.   , 1.   , 1.   , 1.   , 1.   ,\n",
       "       1.   , 1.   , 1.   , 1.   , 1.   , 1.   , 1.   , 1.   , 1.   ,\n",
       "       1.   , 1.   , 1.   , 1.   , 1.   , 1.   , 1.   , 1.   , 1.   ,\n",
       "       1.   , 1.   , 1.   , 1.   , 1.   , 1.   , 1.   , 1.   , 1.   ,\n",
       "       1.   , 1.   , 1.   , 1.   , 1.   , 1.   , 1.   , 1.   , 1.   ,\n",
       "       1.   , 1.   , 1.   , 1.   , 1.   , 1.   , 1.   , 1.   , 1.   ,\n",
       "       1.   , 1.   , 1.   , 1.   , 1.   , 1.   , 1.   , 1.   , 1.   ,\n",
       "       1.   , 1.   , 1.   , 1.   , 1.   , 1.   , 1.   , 1.   , 1.   ,\n",
       "       1.   , 1.   , 1.   , 1.   , 1.   , 1.   , 1.   , 1.   , 1.   ,\n",
       "       1.   , 1.   , 1.   , 1.   , 1.   , 1.   , 1.   , 1.   , 1.   ,\n",
       "       1.   , 1.   , 1.   , 1.   , 1.   , 1.   , 1.   , 1.   , 1.   ,\n",
       "       1.   , 1.   , 1.   , 1.   , 1.   , 1.   , 1.   , 1.   , 1.   ,\n",
       "       1.   , 1.   , 1.   , 1.   , 1.   , 1.   , 1.   , 1.   , 1.   ,\n",
       "       1.   , 1.   , 1.   , 1.   , 1.   , 1.   , 1.   , 1.   , 1.   ,\n",
       "       1.   , 1.   , 1.   , 1.   , 1.   , 1.   , 1.   , 1.   , 1.   ,\n",
       "       1.   , 1.   , 1.   , 1.   , 1.   , 1.   , 1.   , 1.   , 1.   ,\n",
       "       1.   , 1.   , 1.   , 1.   , 1.   , 1.   , 1.   , 1.   , 1.   ,\n",
       "       1.   , 1.   , 1.   , 1.   , 1.   , 1.   , 1.   , 1.   , 1.   ,\n",
       "       1.   , 1.   , 0.125, 0.125, 0.125, 0.125, 0.125, 0.125, 0.125,\n",
       "       0.125, 0.125, 0.125, 0.125, 0.125, 0.125, 0.125, 0.125, 0.125,\n",
       "       0.125, 0.125, 0.125, 0.125, 0.125, 0.125, 0.125, 0.125, 0.125,\n",
       "       0.125, 0.125, 0.125, 0.125, 0.125, 0.125, 0.125, 0.125, 0.125,\n",
       "       0.125, 0.125, 0.125, 0.125, 0.125, 0.125, 0.125, 0.125, 0.125,\n",
       "       0.125, 0.125, 0.125, 0.125, 0.125, 0.125, 0.125, 0.125, 0.125,\n",
       "       0.125, 0.125, 0.125, 0.125, 0.125, 0.125, 0.125, 0.125, 0.125,\n",
       "       0.125, 0.125, 0.125, 0.125, 0.125, 0.125, 0.125, 0.125, 0.125,\n",
       "       0.125, 0.125, 0.125, 0.125, 0.125, 0.125, 0.125, 0.125, 0.125,\n",
       "       0.125, 0.125, 0.125, 0.125, 0.125, 0.125, 0.125, 0.125, 0.125,\n",
       "       0.125, 0.125, 0.125, 0.125, 0.125, 0.125, 0.125, 0.125, 0.125,\n",
       "       0.125, 0.125, 0.125, 0.125, 0.125, 0.125, 0.125, 0.125, 0.125,\n",
       "       0.125, 0.125, 0.125, 0.125, 0.125, 0.125, 0.125, 0.125, 0.125,\n",
       "       0.125, 0.125, 0.125, 0.125, 0.125, 0.125, 0.125, 0.125, 0.125,\n",
       "       0.125, 0.125, 0.125, 0.125, 0.125, 0.125, 0.125, 0.125, 0.125,\n",
       "       0.125, 0.125, 0.125, 0.125, 0.125, 0.125, 0.125, 0.125, 0.125,\n",
       "       0.125, 0.125, 0.125, 0.125, 0.125, 0.125, 0.125, 0.125, 0.125,\n",
       "       0.125, 0.125, 0.125, 0.125, 0.125, 0.125, 0.125, 0.125, 0.125,\n",
       "       0.125, 0.125, 0.125, 0.125, 0.125, 0.125, 0.125, 0.125, 0.125,\n",
       "       0.125, 0.125, 0.125, 0.125, 0.125, 0.125, 0.125, 0.125, 0.125,\n",
       "       0.125, 0.125, 0.125, 0.125, 0.125, 0.125, 0.125, 0.125, 0.125,\n",
       "       0.125, 0.125, 0.125, 0.125, 0.125, 0.125, 0.125, 0.125, 0.125,\n",
       "       0.125, 0.125, 0.125])"
      ]
     },
     "execution_count": 13,
     "metadata": {},
     "output_type": "execute_result"
    }
   ],
   "source": [
    "#[iterazione][refinement level][component number]\n",
    "rho[0][0][0].data"
   ]
  },
  {
   "cell_type": "code",
   "execution_count": 14,
   "metadata": {},
   "outputs": [
    {
     "data": {
      "text/plain": [
       "array([-0.4975, -0.495 , -0.4925, -0.49  , -0.4875, -0.485 , -0.4825,\n",
       "       -0.48  , -0.4775, -0.475 , -0.4725, -0.47  , -0.4675, -0.465 ,\n",
       "       -0.4625, -0.46  , -0.4575, -0.455 , -0.4525, -0.45  , -0.4475,\n",
       "       -0.445 , -0.4425, -0.44  , -0.4375, -0.435 , -0.4325, -0.43  ,\n",
       "       -0.4275, -0.425 , -0.4225, -0.42  , -0.4175, -0.415 , -0.4125,\n",
       "       -0.41  , -0.4075, -0.405 , -0.4025, -0.4   , -0.3975, -0.395 ,\n",
       "       -0.3925, -0.39  , -0.3875, -0.385 , -0.3825, -0.38  , -0.3775,\n",
       "       -0.375 , -0.3725, -0.37  , -0.3675, -0.365 , -0.3625, -0.36  ,\n",
       "       -0.3575, -0.355 , -0.3525, -0.35  , -0.3475, -0.345 , -0.3425,\n",
       "       -0.34  , -0.3375, -0.335 , -0.3325, -0.33  , -0.3275, -0.325 ,\n",
       "       -0.3225, -0.32  , -0.3175, -0.315 , -0.3125, -0.31  , -0.3075,\n",
       "       -0.305 , -0.3025, -0.3   , -0.2975, -0.295 , -0.2925, -0.29  ,\n",
       "       -0.2875, -0.285 , -0.2825, -0.28  , -0.2775, -0.275 , -0.2725,\n",
       "       -0.27  , -0.2675, -0.265 , -0.2625, -0.26  , -0.2575, -0.255 ,\n",
       "       -0.2525, -0.25  , -0.2475, -0.245 , -0.2425, -0.24  , -0.2375,\n",
       "       -0.235 , -0.2325, -0.23  , -0.2275, -0.225 , -0.2225, -0.22  ,\n",
       "       -0.2175, -0.215 , -0.2125, -0.21  , -0.2075, -0.205 , -0.2025,\n",
       "       -0.2   , -0.1975, -0.195 , -0.1925, -0.19  , -0.1875, -0.185 ,\n",
       "       -0.1825, -0.18  , -0.1775, -0.175 , -0.1725, -0.17  , -0.1675,\n",
       "       -0.165 , -0.1625, -0.16  , -0.1575, -0.155 , -0.1525, -0.15  ,\n",
       "       -0.1475, -0.145 , -0.1425, -0.14  , -0.1375, -0.135 , -0.1325,\n",
       "       -0.13  , -0.1275, -0.125 , -0.1225, -0.12  , -0.1175, -0.115 ,\n",
       "       -0.1125, -0.11  , -0.1075, -0.105 , -0.1025, -0.1   , -0.0975,\n",
       "       -0.095 , -0.0925, -0.09  , -0.0875, -0.085 , -0.0825, -0.08  ,\n",
       "       -0.0775, -0.075 , -0.0725, -0.07  , -0.0675, -0.065 , -0.0625,\n",
       "       -0.06  , -0.0575, -0.055 , -0.0525, -0.05  , -0.0475, -0.045 ,\n",
       "       -0.0425, -0.04  , -0.0375, -0.035 , -0.0325, -0.03  , -0.0275,\n",
       "       -0.025 , -0.0225, -0.02  , -0.0175, -0.015 , -0.0125, -0.01  ,\n",
       "       -0.0075, -0.005 , -0.0025,  0.    ,  0.0025,  0.005 ,  0.0075,\n",
       "        0.01  ,  0.0125,  0.015 ,  0.0175,  0.02  ,  0.0225,  0.025 ,\n",
       "        0.0275,  0.03  ,  0.0325,  0.035 ,  0.0375,  0.04  ,  0.0425,\n",
       "        0.045 ,  0.0475,  0.05  ,  0.0525,  0.055 ,  0.0575,  0.06  ,\n",
       "        0.0625,  0.065 ,  0.0675,  0.07  ,  0.0725,  0.075 ,  0.0775,\n",
       "        0.08  ,  0.0825,  0.085 ,  0.0875,  0.09  ,  0.0925,  0.095 ,\n",
       "        0.0975,  0.1   ,  0.1025,  0.105 ,  0.1075,  0.11  ,  0.1125,\n",
       "        0.115 ,  0.1175,  0.12  ,  0.1225,  0.125 ,  0.1275,  0.13  ,\n",
       "        0.1325,  0.135 ,  0.1375,  0.14  ,  0.1425,  0.145 ,  0.1475,\n",
       "        0.15  ,  0.1525,  0.155 ,  0.1575,  0.16  ,  0.1625,  0.165 ,\n",
       "        0.1675,  0.17  ,  0.1725,  0.175 ,  0.1775,  0.18  ,  0.1825,\n",
       "        0.185 ,  0.1875,  0.19  ,  0.1925,  0.195 ,  0.1975,  0.2   ,\n",
       "        0.2025,  0.205 ,  0.2075,  0.21  ,  0.2125,  0.215 ,  0.2175,\n",
       "        0.22  ,  0.2225,  0.225 ,  0.2275,  0.23  ,  0.2325,  0.235 ,\n",
       "        0.2375,  0.24  ,  0.2425,  0.245 ,  0.2475,  0.25  ,  0.2525,\n",
       "        0.255 ,  0.2575,  0.26  ,  0.2625,  0.265 ,  0.2675,  0.27  ,\n",
       "        0.2725,  0.275 ,  0.2775,  0.28  ,  0.2825,  0.285 ,  0.2875,\n",
       "        0.29  ,  0.2925,  0.295 ,  0.2975,  0.3   ,  0.3025,  0.305 ,\n",
       "        0.3075,  0.31  ,  0.3125,  0.315 ,  0.3175,  0.32  ,  0.3225,\n",
       "        0.325 ,  0.3275,  0.33  ,  0.3325,  0.335 ,  0.3375,  0.34  ,\n",
       "        0.3425,  0.345 ,  0.3475,  0.35  ,  0.3525,  0.355 ,  0.3575,\n",
       "        0.36  ,  0.3625,  0.365 ,  0.3675,  0.37  ,  0.3725,  0.375 ,\n",
       "        0.3775,  0.38  ,  0.3825,  0.385 ,  0.3875,  0.39  ,  0.3925,\n",
       "        0.395 ,  0.3975,  0.4   ,  0.4025,  0.405 ,  0.4075,  0.41  ,\n",
       "        0.4125,  0.415 ,  0.4175,  0.42  ,  0.4225,  0.425 ,  0.4275,\n",
       "        0.43  ,  0.4325,  0.435 ,  0.4375,  0.44  ,  0.4425,  0.445 ,\n",
       "        0.4475,  0.45  ,  0.4525,  0.455 ,  0.4575,  0.46  ,  0.4625,\n",
       "        0.465 ,  0.4675,  0.47  ,  0.4725,  0.475 ,  0.4775,  0.48  ,\n",
       "        0.4825,  0.485 ,  0.4875,  0.49  ,  0.4925,  0.495 ,  0.4975])"
      ]
     },
     "execution_count": 14,
     "metadata": {},
     "output_type": "execute_result"
    }
   ],
   "source": [
    "rho[0][0][0].coordinates()[0].data"
   ]
  },
  {
   "cell_type": "code",
   "execution_count": 15,
   "metadata": {},
   "outputs": [
    {
     "data": {
      "image/png": "[encoded data removed]",
      "text/plain": [
       "<Figure size 432x288 with 1 Axes>"
      ]
     },
     "metadata": {
      "needs_background": "light"
     },
     "output_type": "display_data"
    }
   ],
   "source": [
    "plt.plot(rho[200][0][0].coordinates()[0].data,rho[200][0][0].data, label=\"GRHydro\", marker='o')\n",
    "plt.plot(x_exact, rho_exact, label=\"exact\")\n",
    "plt.xlim(-0.5, 0.5)\n",
    "plt.legend()\n",
    "plt.show()"
   ]
  },
  {
   "cell_type": "code",
   "execution_count": null,
   "metadata": {},
   "outputs": [],
   "source": []
  }
 ],
 "metadata": {
  "kernelspec": {
   "display_name": "Python 3",
   "language": "python",
   "name": "python3"
  },
  "language_info": {
   "codemirror_mode": {
    "name": "ipython",
    "version": 3
   },
   "file_extension": ".py",
   "mimetype": "text/x-python",
   "name": "python",
   "nbconvert_exporter": "python",
   "pygments_lexer": "ipython3",
   "version": "3.12.11"
  }
 },
 "nbformat": 4,
 "nbformat_minor": 4
}
